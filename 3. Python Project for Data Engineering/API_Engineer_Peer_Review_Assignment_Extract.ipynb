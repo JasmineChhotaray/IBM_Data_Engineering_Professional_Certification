{
 "cells": [
  {
   "cell_type": "markdown",
   "metadata": {},
   "source": [
    "<p style=\"text-align:center\">\n",
    "    <a href=\"https://skills.network/?utm_medium=Exinfluencer&utm_source=Exinfluencer&utm_content=000026UJ&utm_term=10006555&utm_id=NA-SkillsNetwork-Channel-SkillsNetworkCoursesIBMDeveloperSkillsNetworkPY0221ENSkillsNetwork23455645-2022-01-01\" target=\"_blank\">\n",
    "    <img src=\"https://cf-courses-data.s3.us.cloud-object-storage.appdomain.cloud/assets/logos/SN_web_lightmode.png\" width=\"200\" alt=\"Skills Network Logo\"  />\n",
    "    </a>\n",
    "</p>\n"
   ]
  },
  {
   "cell_type": "markdown",
   "metadata": {},
   "source": [
    "# Peer Review Assignment - Data Engineer - Extract API Data\n"
   ]
  },
  {
   "cell_type": "markdown",
   "metadata": {},
   "source": [
    "Estimated time needed: **20** minutes\n"
   ]
  },
  {
   "cell_type": "markdown",
   "metadata": {},
   "source": [
    "## Objectives\n",
    "\n",
    "In this part you will:\n",
    "\n",
    "*   Collect exchange rate data using an API\n",
    "*   Store the data as a CSV\n"
   ]
  },
  {
   "cell_type": "markdown",
   "metadata": {},
   "source": [
    "For this lab, we are going to be using Python and several Python libraries. Some of these libraries might be installed in your lab environment or in SN Labs. Others may need to be installed by you. The cells below will install these libraries when executed.\n"
   ]
  },
  {
   "cell_type": "code",
   "execution_count": 1,
   "metadata": {},
   "outputs": [],
   "source": [
    "#!mamba install pandas==1.3.3 -y\n",
    "#!mamba install requests==2.26.0 -y"
   ]
  },
  {
   "cell_type": "markdown",
   "metadata": {},
   "source": [
    "## Imports\n",
    "\n",
    "Import any additional libraries you may need here.\n"
   ]
  },
  {
   "cell_type": "code",
   "execution_count": 2,
   "metadata": {},
   "outputs": [],
   "source": [
    "import requests\n",
    "import pandas as pd"
   ]
  },
  {
   "cell_type": "markdown",
   "metadata": {},
   "source": [
    "## Extract Data Using an API\n"
   ]
  },
  {
   "cell_type": "markdown",
   "metadata": {},
   "source": [
    "Using ExchangeRate-API we will extract currency exchange rate data. Use the below steps to get the access key and to get the data.\n",
    "\n",
    "1.  Open the url : [https://exchangeratesapi.io/](https://exchangeratesapi.io/?utm_medium=Exinfluencer&utm_source=Exinfluencer&utm_content=000026UJ&utm_term=10006555&utm_id=NA-SkillsNetwork-Channel-SkillsNetworkCoursesIBMDeveloperSkillsNetworkPY0221ENSkillsNetwork23455645-2022-01-01) and click on **Get Free API Key**.\n",
    "2.  Subscribe for Free plan and Sign-in with the Google Account.\n",
    "3.  Once the account is created you will be redirected to [https://apilayer.com](https://apilayer.com/?utm_medium=Exinfluencer&utm_source=Exinfluencer&utm_content=000026UJ&utm_term=10006555&utm_id=NA-SkillsNetwork-Channel-SkillsNetworkCoursesIBMDeveloperSkillsNetworkPY0221ENSkillsNetwork23455645-2022-01-01) website.\n",
    "4.  Now, click on the **user icon** and click **Account** as shown below:\n",
    "\n",
    "<img src=\"https://cf-courses-data.s3.us.cloud-object-storage.appdomain.cloud/IBMDeveloperSkillsNetwork-PY0221EN-SkillsNetwork/labs/module%206/Final%20Assignment/Images/account.png\"/>\n",
    "\n",
    "3.  Scroll down and you will get the API Key section. Copy the API key and use in the url in Question 1.\n"
   ]
  },
  {
   "cell_type": "markdown",
   "metadata": {},
   "source": [
    "### Call the API\n",
    "\n",
    "<b> Question 1</b> Using the `requests` library call the endpoint given above and save the text, remember the first few characters of the output:\n"
   ]
  },
  {
   "cell_type": "code",
   "execution_count": 3,
   "metadata": {},
   "outputs": [],
   "source": [
    "# Write your code here\n",
    "\n",
    "url = \"https://api.apilayer.com/exchangerates_data/latest?base=EUR&apikey=2zyHCeD4OkxUJV5Aa9fSSJ2cSTGPXjmu\""
   ]
  },
  {
   "cell_type": "code",
   "execution_count": 4,
   "metadata": {},
   "outputs": [
    {
     "data": {
      "text/plain": [
       "{'success': True,\n",
       " 'timestamp': 1657480814,\n",
       " 'base': 'EUR',\n",
       " 'date': '2022-07-10',\n",
       " 'rates': {'AED': 3.741383,\n",
       "  'AFN': 89.21778,\n",
       "  'ALL': 118.100298,\n",
       "  'AMD': 413.086021,\n",
       "  'ANG': 1.827359,\n",
       "  'AOA': 438.964319,\n",
       "  'ARS': 128.264485,\n",
       "  'AUD': 1.485473,\n",
       "  'AWG': 1.828367,\n",
       "  'AZN': 1.735645,\n",
       "  'BAM': 1.956001,\n",
       "  'BBD': 2.047279,\n",
       "  'BDT': 94.738261,\n",
       "  'BGN': 1.958207,\n",
       "  'BHD': 0.384033,\n",
       "  'BIF': 2087.212003,\n",
       "  'BMD': 1.018589,\n",
       "  'BND': 1.421424,\n",
       "  'BOB': 6.970908,\n",
       "  'BRL': 5.352767,\n",
       "  'BSD': 1.013988,\n",
       "  'BTC': 4.8658389e-05,\n",
       "  'BTN': 80.350706,\n",
       "  'BWP': 12.851121,\n",
       "  'BYN': 2.606427,\n",
       "  'BYR': 19964.340869,\n",
       "  'BZD': 2.043778,\n",
       "  'CAD': 1.320911,\n",
       "  'CDF': 2039.728105,\n",
       "  'CHF': 0.994872,\n",
       "  'CLF': 0.035959,\n",
       "  'CLP': 992.217958,\n",
       "  'CNY': 6.81966,\n",
       "  'COP': 4456.288584,\n",
       "  'CRC': 696.700752,\n",
       "  'CUC': 1.018589,\n",
       "  'CUP': 26.992604,\n",
       "  'CVE': 110.274616,\n",
       "  'CZK': 24.641752,\n",
       "  'DJF': 180.50574,\n",
       "  'DKK': 7.440999,\n",
       "  'DOP': 55.533842,\n",
       "  'DZD': 149.43003,\n",
       "  'EGP': 19.210675,\n",
       "  'ERN': 15.278833,\n",
       "  'ETB': 52.902713,\n",
       "  'EUR': 1,\n",
       "  'FJD': 2.25148,\n",
       "  'FKP': 0.836362,\n",
       "  'GBP': 0.846742,\n",
       "  'GEL': 2.995049,\n",
       "  'GGP': 0.836362,\n",
       "  'GHS': 8.162312,\n",
       "  'GIP': 0.836362,\n",
       "  'GMD': 55.095866,\n",
       "  'GNF': 8806.667932,\n",
       "  'GTQ': 7.858085,\n",
       "  'GYD': 212.198503,\n",
       "  'HKD': 7.994751,\n",
       "  'HNL': 24.927174,\n",
       "  'HRK': 7.518245,\n",
       "  'HTG': 117.491245,\n",
       "  'HUF': 405.118279,\n",
       "  'IDR': 15255.353825,\n",
       "  'ILS': 3.523508,\n",
       "  'IMP': 0.836362,\n",
       "  'INR': 80.764421,\n",
       "  'IQD': 1479.859042,\n",
       "  'IRR': 43137.236879,\n",
       "  'ISK': 139.52669,\n",
       "  'JEP': 0.836362,\n",
       "  'JMD': 152.878331,\n",
       "  'JOD': 0.72222,\n",
       "  'JPY': 138.620145,\n",
       "  'KES': 119.798046,\n",
       "  'KGS': 84.181583,\n",
       "  'KHR': 4133.860468,\n",
       "  'KMF': 473.261871,\n",
       "  'KPW': 916.729779,\n",
       "  'KRW': 1318.859009,\n",
       "  'KWD': 0.313186,\n",
       "  'KYD': 0.844874,\n",
       "  'KZT': 480.361887,\n",
       "  'LAK': 15233.028304,\n",
       "  'LBP': 1533.133688,\n",
       "  'LKR': 369.584327,\n",
       "  'LRD': 155.33864,\n",
       "  'LSL': 16.134836,\n",
       "  'LTL': 3.007628,\n",
       "  'LVL': 0.616134,\n",
       "  'LYD': 4.941431,\n",
       "  'MAD': 10.3235,\n",
       "  'MDL': 19.543904,\n",
       "  'MGA': 4150.091884,\n",
       "  'MKD': 61.620373,\n",
       "  'MMK': 1877.325501,\n",
       "  'MNT': 3182.160701,\n",
       "  'MOP': 8.197015,\n",
       "  'MRO': 363.636033,\n",
       "  'MUR': 46.244032,\n",
       "  'MVR': 15.635724,\n",
       "  'MWK': 1040.752753,\n",
       "  'MXN': 20.848887,\n",
       "  'MYR': 4.509332,\n",
       "  'MZN': 65.016909,\n",
       "  'NAD': 16.134831,\n",
       "  'NGN': 423.050879,\n",
       "  'NIO': 36.35517,\n",
       "  'NOK': 10.254409,\n",
       "  'NPR': 128.56121,\n",
       "  'NZD': 1.644344,\n",
       "  'OMR': 0.392164,\n",
       "  'PAB': 1.013888,\n",
       "  'PEN': 3.944344,\n",
       "  'PGK': 3.618616,\n",
       "  'PHP': 56.868196,\n",
       "  'PKR': 210.247233,\n",
       "  'PLN': 4.774992,\n",
       "  'PYG': 6968.907681,\n",
       "  'QAR': 3.708721,\n",
       "  'RON': 4.942503,\n",
       "  'RSD': 117.413238,\n",
       "  'RUB': 66.208175,\n",
       "  'RWF': 1045.231143,\n",
       "  'SAR': 3.823997,\n",
       "  'SBD': 8.311653,\n",
       "  'SCR': 14.374253,\n",
       "  'SDG': 464.989543,\n",
       "  'SEK': 10.684625,\n",
       "  'SGD': 1.425373,\n",
       "  'SHP': 1.403008,\n",
       "  'SLL': 13414.815102,\n",
       "  'SOS': 595.3689,\n",
       "  'SRD': 22.865795,\n",
       "  'STD': 21082.732048,\n",
       "  'SVC': 8.871774,\n",
       "  'SYP': 2559.235344,\n",
       "  'SZL': 17.163597,\n",
       "  'THB': 36.518485,\n",
       "  'TJS': 10.66163,\n",
       "  'TMT': 3.575247,\n",
       "  'TND': 3.120451,\n",
       "  'TOP': 2.397096,\n",
       "  'TRY': 17.594394,\n",
       "  'TTD': 6.8817,\n",
       "  'TWD': 30.316772,\n",
       "  'TZS': 2364.526184,\n",
       "  'UAH': 29.955812,\n",
       "  'UGX': 3810.432266,\n",
       "  'USD': 1.018589,\n",
       "  'UYU': 40.806558,\n",
       "  'UZS': 11072.605519,\n",
       "  'VEF': 217805073818.5945,\n",
       "  'VND': 23791.68836,\n",
       "  'VUV': 118.371055,\n",
       "  'WST': 2.693884,\n",
       "  'XAF': 656.014204,\n",
       "  'XAG': 0.053107,\n",
       "  'XAU': 0.000577,\n",
       "  'XCD': 2.752788,\n",
       "  'XDR': 0.768767,\n",
       "  'XOF': 656.014204,\n",
       "  'XPF': 115.253696,\n",
       "  'YER': 254.902223,\n",
       "  'ZAR': 17.134039,\n",
       "  'ZMK': 9168.522071,\n",
       "  'ZMW': 16.552743,\n",
       "  'ZWL': 327.985184}}"
      ]
     },
     "execution_count": 4,
     "metadata": {},
     "output_type": "execute_result"
    }
   ],
   "source": [
    "response = requests.get(url)\n",
    "response.json()"
   ]
  },
  {
   "cell_type": "markdown",
   "metadata": {},
   "source": [
    "### Save as DataFrame\n",
    "\n",
    "<b> Question 2</b>  Using the data gathered turn it into a `pandas` dataframe. The dataframe should have the Currency as the index and `Rate` as their columns. Make sure to drop unnecessary columns.\n"
   ]
  },
  {
   "cell_type": "code",
   "execution_count": 5,
   "metadata": {},
   "outputs": [
    {
     "data": {
      "text/html": [
       "<div>\n",
       "<style scoped>\n",
       "    .dataframe tbody tr th:only-of-type {\n",
       "        vertical-align: middle;\n",
       "    }\n",
       "\n",
       "    .dataframe tbody tr th {\n",
       "        vertical-align: top;\n",
       "    }\n",
       "\n",
       "    .dataframe thead th {\n",
       "        text-align: right;\n",
       "    }\n",
       "</style>\n",
       "<table border=\"1\" class=\"dataframe\">\n",
       "  <thead>\n",
       "    <tr style=\"text-align: right;\">\n",
       "      <th></th>\n",
       "      <th>success</th>\n",
       "      <th>timestamp</th>\n",
       "      <th>base</th>\n",
       "      <th>date</th>\n",
       "      <th>rates</th>\n",
       "    </tr>\n",
       "  </thead>\n",
       "  <tbody>\n",
       "    <tr>\n",
       "      <th>AED</th>\n",
       "      <td>True</td>\n",
       "      <td>1657480814</td>\n",
       "      <td>EUR</td>\n",
       "      <td>2022-07-10</td>\n",
       "      <td>3.741383</td>\n",
       "    </tr>\n",
       "    <tr>\n",
       "      <th>AFN</th>\n",
       "      <td>True</td>\n",
       "      <td>1657480814</td>\n",
       "      <td>EUR</td>\n",
       "      <td>2022-07-10</td>\n",
       "      <td>89.217780</td>\n",
       "    </tr>\n",
       "    <tr>\n",
       "      <th>ALL</th>\n",
       "      <td>True</td>\n",
       "      <td>1657480814</td>\n",
       "      <td>EUR</td>\n",
       "      <td>2022-07-10</td>\n",
       "      <td>118.100298</td>\n",
       "    </tr>\n",
       "    <tr>\n",
       "      <th>AMD</th>\n",
       "      <td>True</td>\n",
       "      <td>1657480814</td>\n",
       "      <td>EUR</td>\n",
       "      <td>2022-07-10</td>\n",
       "      <td>413.086021</td>\n",
       "    </tr>\n",
       "    <tr>\n",
       "      <th>ANG</th>\n",
       "      <td>True</td>\n",
       "      <td>1657480814</td>\n",
       "      <td>EUR</td>\n",
       "      <td>2022-07-10</td>\n",
       "      <td>1.827359</td>\n",
       "    </tr>\n",
       "    <tr>\n",
       "      <th>...</th>\n",
       "      <td>...</td>\n",
       "      <td>...</td>\n",
       "      <td>...</td>\n",
       "      <td>...</td>\n",
       "      <td>...</td>\n",
       "    </tr>\n",
       "    <tr>\n",
       "      <th>YER</th>\n",
       "      <td>True</td>\n",
       "      <td>1657480814</td>\n",
       "      <td>EUR</td>\n",
       "      <td>2022-07-10</td>\n",
       "      <td>254.902223</td>\n",
       "    </tr>\n",
       "    <tr>\n",
       "      <th>ZAR</th>\n",
       "      <td>True</td>\n",
       "      <td>1657480814</td>\n",
       "      <td>EUR</td>\n",
       "      <td>2022-07-10</td>\n",
       "      <td>17.134039</td>\n",
       "    </tr>\n",
       "    <tr>\n",
       "      <th>ZMK</th>\n",
       "      <td>True</td>\n",
       "      <td>1657480814</td>\n",
       "      <td>EUR</td>\n",
       "      <td>2022-07-10</td>\n",
       "      <td>9168.522071</td>\n",
       "    </tr>\n",
       "    <tr>\n",
       "      <th>ZMW</th>\n",
       "      <td>True</td>\n",
       "      <td>1657480814</td>\n",
       "      <td>EUR</td>\n",
       "      <td>2022-07-10</td>\n",
       "      <td>16.552743</td>\n",
       "    </tr>\n",
       "    <tr>\n",
       "      <th>ZWL</th>\n",
       "      <td>True</td>\n",
       "      <td>1657480814</td>\n",
       "      <td>EUR</td>\n",
       "      <td>2022-07-10</td>\n",
       "      <td>327.985184</td>\n",
       "    </tr>\n",
       "  </tbody>\n",
       "</table>\n",
       "<p>168 rows × 5 columns</p>\n",
       "</div>"
      ],
      "text/plain": [
       "     success   timestamp base        date        rates\n",
       "AED     True  1657480814  EUR  2022-07-10     3.741383\n",
       "AFN     True  1657480814  EUR  2022-07-10    89.217780\n",
       "ALL     True  1657480814  EUR  2022-07-10   118.100298\n",
       "AMD     True  1657480814  EUR  2022-07-10   413.086021\n",
       "ANG     True  1657480814  EUR  2022-07-10     1.827359\n",
       "..       ...         ...  ...         ...          ...\n",
       "YER     True  1657480814  EUR  2022-07-10   254.902223\n",
       "ZAR     True  1657480814  EUR  2022-07-10    17.134039\n",
       "ZMK     True  1657480814  EUR  2022-07-10  9168.522071\n",
       "ZMW     True  1657480814  EUR  2022-07-10    16.552743\n",
       "ZWL     True  1657480814  EUR  2022-07-10   327.985184\n",
       "\n",
       "[168 rows x 5 columns]"
      ]
     },
     "execution_count": 5,
     "metadata": {},
     "output_type": "execute_result"
    }
   ],
   "source": [
    "# Turn the data into a dataframe\n",
    "\n",
    "dataframe = pd.DataFrame(response.json())\n",
    "dataframe"
   ]
  },
  {
   "cell_type": "code",
   "execution_count": 6,
   "metadata": {},
   "outputs": [
    {
     "data": {
      "text/html": [
       "<div>\n",
       "<style scoped>\n",
       "    .dataframe tbody tr th:only-of-type {\n",
       "        vertical-align: middle;\n",
       "    }\n",
       "\n",
       "    .dataframe tbody tr th {\n",
       "        vertical-align: top;\n",
       "    }\n",
       "\n",
       "    .dataframe thead th {\n",
       "        text-align: right;\n",
       "    }\n",
       "</style>\n",
       "<table border=\"1\" class=\"dataframe\">\n",
       "  <thead>\n",
       "    <tr style=\"text-align: right;\">\n",
       "      <th></th>\n",
       "      <th>rates</th>\n",
       "    </tr>\n",
       "  </thead>\n",
       "  <tbody>\n",
       "    <tr>\n",
       "      <th>AED</th>\n",
       "      <td>3.741383</td>\n",
       "    </tr>\n",
       "    <tr>\n",
       "      <th>AFN</th>\n",
       "      <td>89.217780</td>\n",
       "    </tr>\n",
       "    <tr>\n",
       "      <th>ALL</th>\n",
       "      <td>118.100298</td>\n",
       "    </tr>\n",
       "    <tr>\n",
       "      <th>AMD</th>\n",
       "      <td>413.086021</td>\n",
       "    </tr>\n",
       "    <tr>\n",
       "      <th>ANG</th>\n",
       "      <td>1.827359</td>\n",
       "    </tr>\n",
       "    <tr>\n",
       "      <th>...</th>\n",
       "      <td>...</td>\n",
       "    </tr>\n",
       "    <tr>\n",
       "      <th>YER</th>\n",
       "      <td>254.902223</td>\n",
       "    </tr>\n",
       "    <tr>\n",
       "      <th>ZAR</th>\n",
       "      <td>17.134039</td>\n",
       "    </tr>\n",
       "    <tr>\n",
       "      <th>ZMK</th>\n",
       "      <td>9168.522071</td>\n",
       "    </tr>\n",
       "    <tr>\n",
       "      <th>ZMW</th>\n",
       "      <td>16.552743</td>\n",
       "    </tr>\n",
       "    <tr>\n",
       "      <th>ZWL</th>\n",
       "      <td>327.985184</td>\n",
       "    </tr>\n",
       "  </tbody>\n",
       "</table>\n",
       "<p>168 rows × 1 columns</p>\n",
       "</div>"
      ],
      "text/plain": [
       "           rates\n",
       "AED     3.741383\n",
       "AFN    89.217780\n",
       "ALL   118.100298\n",
       "AMD   413.086021\n",
       "ANG     1.827359\n",
       "..           ...\n",
       "YER   254.902223\n",
       "ZAR    17.134039\n",
       "ZMK  9168.522071\n",
       "ZMW    16.552743\n",
       "ZWL   327.985184\n",
       "\n",
       "[168 rows x 1 columns]"
      ]
     },
     "execution_count": 6,
     "metadata": {},
     "output_type": "execute_result"
    }
   ],
   "source": [
    "# Drop unnescessary columns\n",
    "\n",
    "dataframe.drop(columns=[\"success\", \"timestamp\", \"base\", \"date\"], inplace=True)\n",
    "dataframe"
   ]
  },
  {
   "cell_type": "markdown",
   "metadata": {},
   "source": [
    "### Load the Data\n",
    "\n",
    "Using the dataframe save it as a CSV names `exchange_rates_1.csv`.\n"
   ]
  },
  {
   "cell_type": "code",
   "execution_count": 7,
   "metadata": {},
   "outputs": [],
   "source": [
    "# Save the Dataframe\n",
    "\n",
    "dataframe.to_csv(\"exchange_rates_1.csv\")"
   ]
  },
  {
   "cell_type": "markdown",
   "metadata": {},
   "source": [
    "Your CSV should be in this format with more currencies\n",
    "\n",
    "|     | Rates      |\n",
    "| --- | ---------- |\n",
    "| AED | 4.398618   |\n",
    "| AFN | 92.917693  |\n",
    "| ALL | 123.099093 |\n",
    "| AMD | 621.935674 |\n",
    "| ANG | 2.149648   |\n"
   ]
  },
  {
   "cell_type": "markdown",
   "metadata": {},
   "source": [
    "## Authors\n"
   ]
  },
  {
   "cell_type": "markdown",
   "metadata": {},
   "source": [
    "Ramesh Sannareddy, Joseph Santarcangelo and Azim Hirjani\n"
   ]
  },
  {
   "cell_type": "markdown",
   "metadata": {},
   "source": [
    "### Other Contributors\n"
   ]
  },
  {
   "cell_type": "markdown",
   "metadata": {},
   "source": [
    "Rav Ahuja\n"
   ]
  },
  {
   "cell_type": "markdown",
   "metadata": {},
   "source": [
    "## Change Log\n"
   ]
  },
  {
   "cell_type": "markdown",
   "metadata": {},
   "source": [
    "| Date (YYYY-MM-DD) | Version | Changed By        | Change Description                              |\n",
    "| ----------------- | ------- | ----------------- | ----------------------------------------------- |\n",
    "| 2022-05-06        | 0.3     | Malika            | Updated instructions to get the API and the url |\n",
    "| 2021-04-15        | 0.2     | Malika            | Updated the lab from USD to EUR                 |\n",
    "| 2020-11-25        | 0.1     | Ramesh Sannareddy | Created initial version of the lab              |\n"
   ]
  },
  {
   "cell_type": "markdown",
   "metadata": {},
   "source": [
    "Copyright © 2020 IBM Corporation. This notebook and its source code are released under the terms of the [MIT License](https://cognitiveclass.ai/mit-license?utm_medium=Exinfluencer&utm_source=Exinfluencer&utm_content=000026UJ&utm_term=10006555&utm_id=NA-SkillsNetwork-Channel-SkillsNetworkCoursesIBMDeveloperSkillsNetworkPY0221ENSkillsNetwork23455645-2022-01-01&cm_mmc=Email_Newsletter-\\_-Developer_Ed%2BTech-\\_-WW_WW-\\_-SkillsNetwork-Courses-IBM-DA0321EN-SkillsNetwork-21426264&cm_mmca1=000026UJ&cm_mmca2=10006555&cm_mmca3=M12345678&cvosrc=email.Newsletter.M12345678&cvo_campaign=000026UJ).\n"
   ]
  }
 ],
 "metadata": {
  "kernelspec": {
   "display_name": "Python",
   "language": "python",
   "name": "conda-env-python-py"
  },
  "language_info": {
   "codemirror_mode": {
    "name": "ipython",
    "version": 3
   },
   "file_extension": ".py",
   "mimetype": "text/x-python",
   "name": "python",
   "nbconvert_exporter": "python",
   "pygments_lexer": "ipython3",
   "version": "3.7.12"
  }
 },
 "nbformat": 4,
 "nbformat_minor": 4
}
